{
  "nbformat": 4,
  "nbformat_minor": 0,
  "metadata": {
    "colab": {
      "provenance": []
    },
    "kernelspec": {
      "name": "python3",
      "display_name": "Python 3"
    },
    "language_info": {
      "name": "python"
    }
  },
  "cells": [
    {
      "cell_type": "markdown",
      "source": [
        "# **MACHINE LEARNING LAB - 3 ( ID3 Algorithm )**"
      ],
      "metadata": {
        "id": "jOiTaxZ5CdVC"
      }
    },
    {
      "cell_type": "markdown",
      "source": [
        "3. Write a program to demonstrate the working of the decision tree based ID3 Algorithm. Use an appropriate data set for building the decision tree and apply this knowledge to classify a new sample."
      ],
      "metadata": {
        "id": "39VgOOOuCbWr"
      }
    },
    {
      "cell_type": "code",
      "source": [
        "import numpy as np\n",
        "import pandas as pd\n",
        "from sklearn import tree\n",
        "from sklearn.preprocessing import LabelEncoder\n",
        "from sklearn.tree import DecisionTreeClassifier\n",
        "from sklearn.externals.six import StringIO"
      ],
      "metadata": {
        "colab": {
          "base_uri": "https://localhost:8080/",
          "height": 349
        },
        "id": "DvCBmvFFFUXV",
        "outputId": "9aee2d8d-386f-4d0a-c056-eca7cc3b13b7"
      },
      "execution_count": 20,
      "outputs": [
        {
          "output_type": "error",
          "ename": "ModuleNotFoundError",
          "evalue": "No module named 'sklearn.externals.six'",
          "traceback": [
            "\u001b[0;31m---------------------------------------------------------------------------\u001b[0m",
            "\u001b[0;31mModuleNotFoundError\u001b[0m                       Traceback (most recent call last)",
            "\u001b[0;32m<ipython-input-20-82d2e6c6a9c0>\u001b[0m in \u001b[0;36m<cell line: 6>\u001b[0;34m()\u001b[0m\n\u001b[1;32m      4\u001b[0m \u001b[0;32mfrom\u001b[0m \u001b[0msklearn\u001b[0m\u001b[0;34m.\u001b[0m\u001b[0mpreprocessing\u001b[0m \u001b[0;32mimport\u001b[0m \u001b[0mLabelEncoder\u001b[0m\u001b[0;34m\u001b[0m\u001b[0;34m\u001b[0m\u001b[0m\n\u001b[1;32m      5\u001b[0m \u001b[0;32mfrom\u001b[0m \u001b[0msklearn\u001b[0m\u001b[0;34m.\u001b[0m\u001b[0mtree\u001b[0m \u001b[0;32mimport\u001b[0m \u001b[0mDecisionTreeClassifier\u001b[0m\u001b[0;34m\u001b[0m\u001b[0;34m\u001b[0m\u001b[0m\n\u001b[0;32m----> 6\u001b[0;31m \u001b[0;32mfrom\u001b[0m \u001b[0msklearn\u001b[0m\u001b[0;34m.\u001b[0m\u001b[0mexternals\u001b[0m\u001b[0;34m.\u001b[0m\u001b[0msix\u001b[0m \u001b[0;32mimport\u001b[0m \u001b[0mStringIO\u001b[0m\u001b[0;34m\u001b[0m\u001b[0;34m\u001b[0m\u001b[0m\n\u001b[0m",
            "\u001b[0;31mModuleNotFoundError\u001b[0m: No module named 'sklearn.externals.six'",
            "",
            "\u001b[0;31m---------------------------------------------------------------------------\u001b[0;32m\nNOTE: If your import is failing due to a missing package, you can\nmanually install dependencies using either !pip or !apt.\n\nTo view examples of installing some common dependencies, click the\n\"Open Examples\" button below.\n\u001b[0;31m---------------------------------------------------------------------------\u001b[0m\n"
          ],
          "errorDetails": {
            "actions": [
              {
                "action": "open_url",
                "actionText": "Open Examples",
                "url": "/notebooks/snippets/importing_libraries.ipynb"
              }
            ]
          }
        }
      ]
    },
    {
      "cell_type": "code",
      "source": [
        "data = pd.read_csv('/content/tennisdata.csv')\n",
        "print(data.head())"
      ],
      "metadata": {
        "colab": {
          "base_uri": "https://localhost:8080/"
        },
        "id": "zzlNO-ERKafS",
        "outputId": "2665672f-4fcf-445d-d175-324e594b075f"
      },
      "execution_count": 21,
      "outputs": [
        {
          "output_type": "stream",
          "name": "stdout",
          "text": [
            "    Outlook Temperature Humidity  Windy PlayTennis\n",
            "0     Sunny         Hot     High  False         No\n",
            "1     Sunny         Hot     High   True         No\n",
            "2  Overcast         Hot     High  False        Yes\n",
            "3     Rainy        Mild     High  False        Yes\n",
            "4     Rainy        Cool   Normal  False        Yes\n"
          ]
        }
      ]
    },
    {
      "cell_type": "code",
      "source": [
        "x = data.iloc[:,:-1]\n",
        "print(x.head())"
      ],
      "metadata": {
        "colab": {
          "base_uri": "https://localhost:8080/"
        },
        "id": "elnel7Pnloa9",
        "outputId": "b9d20f78-9747-488b-aefa-c927156ff211"
      },
      "execution_count": 22,
      "outputs": [
        {
          "output_type": "stream",
          "name": "stdout",
          "text": [
            "    Outlook Temperature Humidity  Windy\n",
            "0     Sunny         Hot     High  False\n",
            "1     Sunny         Hot     High   True\n",
            "2  Overcast         Hot     High  False\n",
            "3     Rainy        Mild     High  False\n",
            "4     Rainy        Cool   Normal  False\n"
          ]
        }
      ]
    },
    {
      "cell_type": "code",
      "source": [
        "y = data.iloc[:,-1]\n",
        "print(y.head())"
      ],
      "metadata": {
        "colab": {
          "base_uri": "https://localhost:8080/"
        },
        "id": "YHvTp0DglwZB",
        "outputId": "a4547d12-0429-4ec0-b34b-2cbcbe6c4c9e"
      },
      "execution_count": 23,
      "outputs": [
        {
          "output_type": "stream",
          "name": "stdout",
          "text": [
            "0     No\n",
            "1     No\n",
            "2    Yes\n",
            "3    Yes\n",
            "4    Yes\n",
            "Name: PlayTennis, dtype: object\n"
          ]
        }
      ]
    },
    {
      "cell_type": "code",
      "source": [
        "le_outlook = LabelEncoder()\n",
        "x.Outlook = le_outlook.fit_transform(x.Outlook)\n",
        "\n",
        "le_temperature = LabelEncoder()\n",
        "x.Temperature = le_temperature.fit_transform(x.Temperature)\n",
        "\n",
        "le_humidity = LabelEncoder()\n",
        "x.Humidity = le_humidity.fit_transform(x.Humidity)\n",
        "\n",
        "le_windy = LabelEncoder()\n",
        "x.Windy = le_windy.fit_transform(x.Windy)\n",
        "\n",
        "print(x.head())"
      ],
      "metadata": {
        "colab": {
          "base_uri": "https://localhost:8080/"
        },
        "id": "xh2UJpVplze_",
        "outputId": "7bcebfb9-1ab6-4d79-a7b5-886ebe29bcb0"
      },
      "execution_count": 24,
      "outputs": [
        {
          "output_type": "stream",
          "name": "stdout",
          "text": [
            "   Outlook  Temperature  Humidity  Windy\n",
            "0        2            1         0      0\n",
            "1        2            1         0      1\n",
            "2        0            1         0      0\n",
            "3        1            2         0      0\n",
            "4        1            0         1      0\n"
          ]
        }
      ]
    },
    {
      "cell_type": "code",
      "source": [
        "le_PlayTennis = LabelEncoder()\n",
        "y = le_PlayTennis.fit_transform(y)\n",
        "print(y)"
      ],
      "metadata": {
        "colab": {
          "base_uri": "https://localhost:8080/"
        },
        "id": "B9FkP5vfmAze",
        "outputId": "5bc56e90-6515-4bd3-d19a-193398113277"
      },
      "execution_count": 25,
      "outputs": [
        {
          "output_type": "stream",
          "name": "stdout",
          "text": [
            "[0 0 1 1 1 0 1 0 1 1 1 1 1 0]\n"
          ]
        }
      ]
    },
    {
      "cell_type": "code",
      "source": [
        "from sklearn.preprocessing import LabelEncoder\n",
        "from sklearn.tree import DecisionTreeClassifier\n",
        "\n",
        "# Assuming the label encoders and classifier have already been defined and trained\n",
        "classifier = DecisionTreeClassifier()\n",
        "classifier.fit(x, y)\n",
        "\n",
        "# Function to encode input\n",
        "def labelEncoderForInput(list1):\n",
        "    list1[0] = le_outlook.transform([list1[0]])[0]\n",
        "    list1[1] = le_temperature.transform([list1[1]])[0]\n",
        "    list1[2] = le_humidity.transform([list1[2]])[0]\n",
        "    list1[3] = le_windy.transform([list1[3]])[0]\n",
        "    return [list1]\n",
        "\n",
        "# Predict for an input\n",
        "inp = [\"Rainy\", \"Mild\", \"High\", \"False\"]\n",
        "inp1 = [\"Rainy\", \"Cool\", \"High\", \"False\"]\n",
        "pred1 = labelEncoderForInput(inp1)\n",
        "y_pred = classifier.predict(pred1)\n",
        "y_pred\n",
        "\n",
        "# Print the result\n",
        "print(\"\\nFor input {0}, we obtain {1}\".format(inp1, le_PlayTennis.inverse_transform([y_pred[0]])[0]))\n"
      ],
      "metadata": {
        "colab": {
          "base_uri": "https://localhost:8080/"
        },
        "id": "G1yc7b6NnrL1",
        "outputId": "06c021f3-c381-4c1f-e047-2109b0e400ad"
      },
      "execution_count": 39,
      "outputs": [
        {
          "output_type": "stream",
          "name": "stdout",
          "text": [
            "\n",
            "For input [1, 0, 0, 1], we obtain No\n"
          ]
        },
        {
          "output_type": "stream",
          "name": "stderr",
          "text": [
            "/usr/local/lib/python3.10/dist-packages/sklearn/base.py:465: UserWarning: X does not have valid feature names, but DecisionTreeClassifier was fitted with feature names\n",
            "  warnings.warn(\n"
          ]
        }
      ]
    },
    {
      "cell_type": "code",
      "source": [],
      "metadata": {
        "id": "8CM3MpH3n7lZ"
      },
      "execution_count": null,
      "outputs": []
    }
  ]
}