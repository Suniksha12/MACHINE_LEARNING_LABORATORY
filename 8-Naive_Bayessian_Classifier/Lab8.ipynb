{
  "nbformat": 4,
  "nbformat_minor": 0,
  "metadata": {
    "colab": {
      "provenance": []
    },
    "kernelspec": {
      "name": "python3",
      "display_name": "Python 3"
    },
    "language_info": {
      "name": "python"
    }
  },
  "cells": [
    {
      "cell_type": "markdown",
      "source": [
        "# **MACHINE LEARNING LAB - 8 ( naïve Bayesian Classifier )**"
      ],
      "metadata": {
        "id": "h86JBk5BldWS"
      }
    },
    {
      "cell_type": "markdown",
      "source": [
        "Write a program to implement the naïve Bayesian classifier for a sample training data set stored as a .CSV file. Compute the accuracy of the classifier, considering few test data sets."
      ],
      "metadata": {
        "id": "3aAsP1e6ljM1"
      }
    },
    {
      "cell_type": "code",
      "source": [
        "import pandas as pd\n",
        "from sklearn import tree\n",
        "from sklearn.preprocessing import LabelEncoder\n",
        "from sklearn.naive_bayes import GaussianNB"
      ],
      "metadata": {
        "id": "_V55a_szllXv"
      },
      "execution_count": 5,
      "outputs": []
    },
    {
      "cell_type": "code",
      "source": [
        "data = pd.read_csv('/tennisdata.csv')\n",
        "print(\"The first 5 values of data is :\\n\",data.head())"
      ],
      "metadata": {
        "id": "hlIriITxjNFR",
        "colab": {
          "base_uri": "https://localhost:8080/"
        },
        "outputId": "f8035464-6591-40af-ff33-622f91df101e"
      },
      "execution_count": 6,
      "outputs": [
        {
          "output_type": "stream",
          "name": "stdout",
          "text": [
            "The first 5 values of data is :\n",
            "     Outlook Temperature Humidity  Windy PlayTennis\n",
            "0     Sunny         Hot     High  False         No\n",
            "1     Sunny         Hot     High   True         No\n",
            "2  Overcast         Hot     High  False        Yes\n",
            "3     Rainy        Mild     High  False        Yes\n",
            "4     Rainy        Cool   Normal  False        Yes\n"
          ]
        }
      ]
    },
    {
      "cell_type": "code",
      "source": [
        "X = data.iloc[:,:-1]\n",
        "print(\"\\nThe First 5 values of train data is \\n\",X.head())"
      ],
      "metadata": {
        "id": "u3mTwSBQmYsu",
        "colab": {
          "base_uri": "https://localhost:8080/"
        },
        "outputId": "290aeb9e-1ba4-4611-ab2c-992b76ff7c99"
      },
      "execution_count": 7,
      "outputs": [
        {
          "output_type": "stream",
          "name": "stdout",
          "text": [
            "\n",
            "The First 5 values of train data is \n",
            "     Outlook Temperature Humidity  Windy\n",
            "0     Sunny         Hot     High  False\n",
            "1     Sunny         Hot     High   True\n",
            "2  Overcast         Hot     High  False\n",
            "3     Rainy        Mild     High  False\n",
            "4     Rainy        Cool   Normal  False\n"
          ]
        }
      ]
    },
    {
      "cell_type": "code",
      "source": [
        "y = data.iloc[:,-1]\n",
        "print(\"\\n The first 5 of train output is \\n\",y.head())"
      ],
      "metadata": {
        "id": "D0V2lv4Qm0aN",
        "colab": {
          "base_uri": "https://localhost:8080/"
        },
        "outputId": "adb1c084-cdcc-4720-b684-f1cf1a68c22a"
      },
      "execution_count": 8,
      "outputs": [
        {
          "output_type": "stream",
          "name": "stdout",
          "text": [
            "\n",
            " The first 5 of train output is \n",
            " 0     No\n",
            "1     No\n",
            "2    Yes\n",
            "3    Yes\n",
            "4    Yes\n",
            "Name: PlayTennis, dtype: object\n"
          ]
        }
      ]
    },
    {
      "cell_type": "code",
      "source": [
        "le_outlook = LabelEncoder()\n",
        "X.Outlook = le_outlook.fit_transform(X.Outlook)\n",
        "\n",
        "le_Temperature = LabelEncoder()\n",
        "X.Temperature = le_Temperature.fit_transform(X.Temperature)\n",
        "\n",
        "le_Humidity = LabelEncoder()\n",
        "X.Humidity = le_Humidity.fit_transform(X.Humidity)\n",
        "\n",
        "le_Windy = LabelEncoder()\n",
        "X.Windy = le_Windy.fit_transform(X.Windy)\n",
        "\n",
        "print(\"\\nNow the Train data is :\\n\",X.head())"
      ],
      "metadata": {
        "id": "k3q9fzpPujSp",
        "colab": {
          "base_uri": "https://localhost:8080/"
        },
        "outputId": "3f0bcb52-bc1b-4482-9613-dd352371b64c"
      },
      "execution_count": 9,
      "outputs": [
        {
          "output_type": "stream",
          "name": "stdout",
          "text": [
            "\n",
            "Now the Train data is :\n",
            "    Outlook  Temperature  Humidity  Windy\n",
            "0        2            1         0      0\n",
            "1        2            1         0      1\n",
            "2        0            1         0      0\n",
            "3        1            2         0      0\n",
            "4        1            0         1      0\n"
          ]
        }
      ]
    },
    {
      "cell_type": "code",
      "source": [
        "le_PlayTennis = LabelEncoder()\n",
        "y=le_PlayTennis.fit_transform(y)\n",
        "print(\"\\nNow the Train output is\\n\",y)"
      ],
      "metadata": {
        "id": "62knFI6xb5f8",
        "colab": {
          "base_uri": "https://localhost:8080/"
        },
        "outputId": "a4afba7f-027f-4c3d-d24d-43abb71116e5"
      },
      "execution_count": 10,
      "outputs": [
        {
          "output_type": "stream",
          "name": "stdout",
          "text": [
            "\n",
            "Now the Train output is\n",
            " [0 0 1 1 1 0 1 0 1 1 1 1 1 0]\n"
          ]
        }
      ]
    },
    {
      "cell_type": "code",
      "source": [
        "from sklearn.model_selection import train_test_split\n",
        "X_train, X_test, y_train, y_test = train_test_split(X,y, test_size=0.20)\n",
        "\n",
        "classifier = GaussianNB()\n",
        "classifier.fit(X_train,y_train)\n",
        "\n",
        "from sklearn.metrics import accuracy_score\n",
        "print(\"Accuracy is:\",accuracy_score(classifier.predict(X_test),y_test))"
      ],
      "metadata": {
        "colab": {
          "base_uri": "https://localhost:8080/"
        },
        "id": "B1sp_XVocNGw",
        "outputId": "855a0ef0-e77a-47fe-ff36-ff74c29e7814"
      },
      "execution_count": 12,
      "outputs": [
        {
          "output_type": "stream",
          "name": "stdout",
          "text": [
            "Accuracy is: 0.6666666666666666\n"
          ]
        }
      ]
    },
    {
      "cell_type": "code",
      "source": [],
      "metadata": {
        "id": "N3nEUGUdc0A6"
      },
      "execution_count": 11,
      "outputs": []
    }
  ]
}