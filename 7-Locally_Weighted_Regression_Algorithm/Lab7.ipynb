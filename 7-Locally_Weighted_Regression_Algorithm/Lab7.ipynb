{
  "nbformat": 4,
  "nbformat_minor": 0,
  "metadata": {
    "colab": {
      "provenance": []
    },
    "kernelspec": {
      "name": "python3",
      "display_name": "Python 3"
    },
    "language_info": {
      "name": "python"
    }
  },
  "cells": [
    {
      "cell_type": "markdown",
      "source": [
        "# **MACHINE LEARNING LAB - 7 (Locally Weighted Regression Algorithm)**\n",
        "\n",
        "---\n",
        "\n"
      ],
      "metadata": {
        "id": "jOiTaxZ5CdVC"
      }
    },
    {
      "cell_type": "markdown",
      "source": [
        "7. Implement the non-parametric Locally Weighted Regression algorithm in order to fit data\n",
        "points. Select appropriate data set for your experiment and draw graphs."
      ],
      "metadata": {
        "id": "39VgOOOuCbWr"
      }
    },
    {
      "cell_type": "code",
      "source": [
        "from math import ceil\n",
        "import numpy as np\n",
        "from scipy import linalg"
      ],
      "metadata": {
        "id": "xGXdaPTydk7C"
      },
      "execution_count": 5,
      "outputs": []
    },
    {
      "cell_type": "code",
      "source": [
        "def lowess(x,y,f,iterations):\n",
        "  n = len(x)\n",
        "  r = int(ceil(f*n))\n",
        "  h = [np.sort(np.abs(x - x[i]))[r] for i in range(n)]\n",
        "  w = np.clip(np.abs((x[:,None] - x[None,:])/h),0.0,1.0)\n",
        "  w = (1 - w**3)**3\n",
        "  yest = np.zeros(n)\n",
        "  delta = np.ones(n)\n",
        "  for iteration in range(iterations):\n",
        "    for i in range(n):\n",
        "      weights = delta * w[:,i]\n",
        "      b = np.array([np.sum(weights*y), np.sum(weights*y*x)])\n",
        "      A = np.array([[np.sum(weights),np.sum(weights * x)],[np.sum(weights * x),np.sum(weights * x**2)]])\n",
        "      beta = linalg.solve(A,b)\n",
        "      yest[i] = beta[0] + beta[1] * x[i]\n",
        "\n",
        "    residuals = y - yest\n",
        "    s = np.median(np.abs(residuals))\n",
        "    delta = np.clip(residuals/(6.0 * s),-1,1)\n",
        "    delta = (1-delta**2)**2\n",
        "  return yest"
      ],
      "metadata": {
        "id": "bbgpWauFiAlJ"
      },
      "execution_count": 6,
      "outputs": []
    },
    {
      "cell_type": "code",
      "source": [
        "import math\n",
        "n=100\n",
        "x = np.linspace(0,2*math.pi,n)\n",
        "y = np.sin(x) + 0.3 * np.random.randn(n)\n",
        "f = 0.25\n",
        "iterations = 3\n",
        "yest = lowess(x,y,f,iterations)"
      ],
      "metadata": {
        "id": "8LtrF6PFi0Xp"
      },
      "execution_count": 7,
      "outputs": []
    },
    {
      "cell_type": "code",
      "source": [
        "import matplotlib.pyplot as plt\n",
        "plt.plot(x,y,'r.')\n",
        "plt.plot(x,yest,'b-')"
      ],
      "metadata": {
        "colab": {
          "base_uri": "https://localhost:8080/",
          "height": 447
        },
        "id": "_rtjmtIBjGbm",
        "outputId": "98fd2273-c1ab-44c5-aa06-6209c1e1ad0f"
      },
      "execution_count": 8,
      "outputs": [
        {
          "output_type": "execute_result",
          "data": {
            "text/plain": [
              "[<matplotlib.lines.Line2D at 0x7e405e9d2530>]"
            ]
          },
          "metadata": {},
          "execution_count": 8
        },
        {
          "output_type": "display_data",
          "data": {
            "text/plain": [
              "<Figure size 640x480 with 1 Axes>"
            ],
            "image/png": "[encoded data removed]"
          },
          "metadata": {}
        }
      ]
    },
    {
      "cell_type": "code",
      "source": [],
      "metadata": {
        "id": "hlIriITxjNFR"
      },
      "execution_count": null,
      "outputs": []
    }
  ]
}