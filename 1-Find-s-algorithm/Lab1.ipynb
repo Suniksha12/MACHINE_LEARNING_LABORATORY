{
  "nbformat": 4,
  "nbformat_minor": 0,
  "metadata": {
    "colab": {
      "provenance": []
    },
    "kernelspec": {
      "name": "python3",
      "display_name": "Python 3"
    },
    "language_info": {
      "name": "python"
    }
  },
  "cells": [
    {
      "cell_type": "markdown",
      "source": [
        "# **MACHINE LEARNING LAB - 1 ( FIND-S Algorithm )**"
      ],
      "metadata": {
        "id": "jOiTaxZ5CdVC"
      }
    },
    {
      "cell_type": "markdown",
      "source": [
        "1. Implement and demonstrate the FIND-S algorithm for finding the most specific hypothesis based on a given set of training data samples. Read the training data from a .CSV file."
      ],
      "metadata": {
        "id": "39VgOOOuCbWr"
      }
    },
    {
      "cell_type": "code",
      "source": [
        "import csv\n",
        "hypo = ['%','%','%','%','%','%'];\n",
        "\n",
        "with open('/content/trainingdata.csv') as csv_file:\n",
        "    readcsv = csv.reader(csv_file, delimiter=',')\n",
        "    print(readcsv)\n",
        "\n",
        "    data = []\n",
        "    print(\"\\nThe given training examples are:\")\n",
        "    for row in readcsv:\n",
        "        print(row)\n",
        "        if row[len(row)-1].upper() == \"YES\":\n",
        "            data.append(row)"
      ],
      "metadata": {
        "id": "IkHv6Vg5ETfd",
        "colab": {
          "base_uri": "https://localhost:8080/"
        },
        "outputId": "1c99a5fa-5ae4-4fbf-e7f0-1f4167ae1626"
      },
      "execution_count": 1,
      "outputs": [
        {
          "output_type": "stream",
          "name": "stdout",
          "text": [
            "<_csv.reader object at 0x795fb52f8970>\n",
            "\n",
            "The given training examples are:\n",
            "['sky', 'airTemp', 'humidity', 'wind', 'water', 'forecast', 'enjoySport']\n",
            "['Sunny', 'Warm', 'Normal', 'Strong', 'Warm', 'Same', 'Yes']\n",
            "['Sunny', 'Warm', 'High', 'Strong', 'Warm', 'Same', 'Yes']\n",
            "['Rainy', 'Cold', 'High', 'Strong', 'Warm', 'Change', 'No']\n",
            "['Sunny', 'Warm', 'High', 'Strong', 'Cool', 'Change', 'Yes']\n"
          ]
        }
      ]
    },
    {
      "cell_type": "code",
      "source": [
        "print(\"\\nThe positive examples are:\");\n",
        "for x in data:\n",
        "    print(x);\n",
        "print(\"\\n\");"
      ],
      "metadata": {
        "id": "PSsDeIlrDoPZ",
        "colab": {
          "base_uri": "https://localhost:8080/"
        },
        "outputId": "ff7d9a48-cf27-48c7-f3ce-b89a501154a9"
      },
      "execution_count": 4,
      "outputs": [
        {
          "output_type": "stream",
          "name": "stdout",
          "text": [
            "\n",
            "The positive examples are:\n",
            "['Sunny', 'Warm', 'Normal', 'Strong', 'Warm', 'Same', 'Yes']\n",
            "['Sunny', 'Warm', 'High', 'Strong', 'Warm', 'Same', 'Yes']\n",
            "['Sunny', 'Warm', 'High', 'Strong', 'Cool', 'Change', 'Yes']\n",
            "\n",
            "\n"
          ]
        }
      ]
    },
    {
      "cell_type": "code",
      "source": [
        "TotalExamples = len(data);\n",
        "i=0;\n",
        "j=0;\n",
        "k=0;\n",
        "print(\"The steps of the Find-s algorithm are\", \"\\n\", sep=\"\\n\");\n",
        "print(\"\\n\",hypo, sep=\"\\n\");\n",
        "list = [];\n",
        "p=0;\n",
        "d=len(data[p])-1;\n",
        "for j in range(d):\n",
        "    list.append(data[i][j]);\n",
        "hypo=list;\n",
        "i=1;\n",
        "for i in range(TotalExamples):\n",
        "    for k in range(d):\n",
        "        if hypo[k]!=data[i][k]:\n",
        "            hypo[k]='?';\n",
        "            k=k+1;\n",
        "        else:\n",
        "            hypo[k];\n",
        "    print(hypo);\n",
        "i=i+1;"
      ],
      "metadata": {
        "id": "pIvb-i-uEYO9",
        "colab": {
          "base_uri": "https://localhost:8080/"
        },
        "outputId": "49f7a84b-5ef3-4484-eccb-a72dc3ca8bd4"
      },
      "execution_count": 6,
      "outputs": [
        {
          "output_type": "stream",
          "name": "stdout",
          "text": [
            "The steps of the Find-s algorithm are\n",
            "\n",
            "\n",
            "\n",
            "\n",
            "['Sunny', 'Warm', 'Normal', 'Strong', 'Warm', 'Same']\n",
            "['Sunny', 'Warm', 'Normal', 'Strong', 'Warm', 'Same']\n",
            "['Sunny', 'Warm', '?', 'Strong', 'Warm', 'Same']\n",
            "['Sunny', 'Warm', '?', 'Strong', '?', '?']\n"
          ]
        }
      ]
    },
    {
      "cell_type": "code",
      "source": [
        "print(\"\\n The maximally specific Find-s hypothesis for the given training examples is: \\n\");\n",
        "list=[];\n",
        "for i in range(d):\n",
        "    list.append(hypo[i]);\n",
        "print(list);"
      ],
      "metadata": {
        "colab": {
          "base_uri": "https://localhost:8080/"
        },
        "id": "rdHDgoO_E-l3",
        "outputId": "e6cdbfef-4c06-4a9a-e233-8849441cd51f"
      },
      "execution_count": 7,
      "outputs": [
        {
          "output_type": "stream",
          "name": "stdout",
          "text": [
            "\n",
            " The maximally specific Find-s hypothesis for the given training examples is: \n",
            "\n",
            "['Sunny', 'Warm', '?', 'Strong', '?', '?']\n"
          ]
        }
      ]
    },
    {
      "cell_type": "code",
      "source": [],
      "metadata": {
        "id": "1z4MEP5XFMBC"
      },
      "execution_count": null,
      "outputs": []
    }
  ]
}